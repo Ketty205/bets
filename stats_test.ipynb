{
 "cells": [
  {
   "cell_type": "code",
   "execution_count": null,
   "id": "f389ea7d",
   "metadata": {},
   "outputs": [],
   "source": [
    "#Have in mind that data are not normaly distributed, futher will be apply non-parametical alternatives."
   ]
  },
  {
   "cell_type": "code",
   "execution_count": 21,
   "id": "9a6838be",
   "metadata": {},
   "outputs": [],
   "source": [
    "import pandas as pd\n",
    "from scipy.stats import chi2_contingency\n",
    "from scipy.stats import chisquare\n",
    "from scipy.stats import mannwhitneyu\n",
    "import numpy as np\n",
    "from scipy.stats import kruskal"
   ]
  },
  {
   "cell_type": "code",
   "execution_count": 2,
   "id": "abda6c7c",
   "metadata": {},
   "outputs": [],
   "source": [
    "data = pd.read_csv('cleaned_dataset.csv')"
   ]
  },
  {
   "cell_type": "code",
   "execution_count": 3,
   "id": "bc1562b3",
   "metadata": {},
   "outputs": [
    {
     "data": {
      "text/html": [
       "<div>\n",
       "<style scoped>\n",
       "    .dataframe tbody tr th:only-of-type {\n",
       "        vertical-align: middle;\n",
       "    }\n",
       "\n",
       "    .dataframe tbody tr th {\n",
       "        vertical-align: top;\n",
       "    }\n",
       "\n",
       "    .dataframe thead th {\n",
       "        text-align: right;\n",
       "    }\n",
       "</style>\n",
       "<table border=\"1\" class=\"dataframe\">\n",
       "  <thead>\n",
       "    <tr style=\"text-align: right;\">\n",
       "      <th></th>\n",
       "      <th>bet_id</th>\n",
       "      <th>user_id</th>\n",
       "      <th>bet_type</th>\n",
       "      <th>sport</th>\n",
       "      <th>is_win</th>\n",
       "      <th>odds_log</th>\n",
       "      <th>stake_log</th>\n",
       "      <th>gain_log</th>\n",
       "      <th>GGR_log</th>\n",
       "    </tr>\n",
       "  </thead>\n",
       "  <tbody>\n",
       "    <tr>\n",
       "      <th>0</th>\n",
       "      <td>bet_00001</td>\n",
       "      <td>3848</td>\n",
       "      <td>multiple</td>\n",
       "      <td>Ice Hockey</td>\n",
       "      <td>False</td>\n",
       "      <td>2.345645</td>\n",
       "      <td>2.684440</td>\n",
       "      <td>0.000000</td>\n",
       "      <td>6.894974</td>\n",
       "    </tr>\n",
       "    <tr>\n",
       "      <th>1</th>\n",
       "      <td>bet_00002</td>\n",
       "      <td>153</td>\n",
       "      <td>single</td>\n",
       "      <td>Football</td>\n",
       "      <td>False</td>\n",
       "      <td>2.281361</td>\n",
       "      <td>5.519258</td>\n",
       "      <td>0.000000</td>\n",
       "      <td>6.623401</td>\n",
       "    </tr>\n",
       "    <tr>\n",
       "      <th>2</th>\n",
       "      <td>bet_00003</td>\n",
       "      <td>1527</td>\n",
       "      <td>single</td>\n",
       "      <td>Football</td>\n",
       "      <td>True</td>\n",
       "      <td>0.916291</td>\n",
       "      <td>1.504077</td>\n",
       "      <td>1.832581</td>\n",
       "      <td>6.910452</td>\n",
       "    </tr>\n",
       "  </tbody>\n",
       "</table>\n",
       "</div>"
      ],
      "text/plain": [
       "      bet_id  user_id  bet_type       sport  is_win  odds_log  stake_log  \\\n",
       "0  bet_00001     3848  multiple  Ice Hockey   False  2.345645   2.684440   \n",
       "1  bet_00002      153    single    Football   False  2.281361   5.519258   \n",
       "2  bet_00003     1527    single    Football    True  0.916291   1.504077   \n",
       "\n",
       "   gain_log   GGR_log  \n",
       "0  0.000000  6.894974  \n",
       "1  0.000000  6.623401  \n",
       "2  1.832581  6.910452  "
      ]
     },
     "execution_count": 3,
     "metadata": {},
     "output_type": "execute_result"
    }
   ],
   "source": [
    "data.head(3)"
   ]
  },
  {
   "cell_type": "code",
   "execution_count": 9,
   "id": "86963418",
   "metadata": {},
   "outputs": [
    {
     "data": {
      "text/plain": [
       "(100000, 9)"
      ]
     },
     "execution_count": 9,
     "metadata": {},
     "output_type": "execute_result"
    }
   ],
   "source": [
    "data.shape"
   ]
  },
  {
   "cell_type": "code",
   "execution_count": null,
   "id": "ccda1802",
   "metadata": {},
   "outputs": [],
   "source": [
    "# Hi-squared test of independence\n",
    "# Research question: Wheater the proporsion of users who bet on football and won is equal to the proporsion who lost?"
   ]
  },
  {
   "cell_type": "code",
   "execution_count": 7,
   "id": "41ab9e60",
   "metadata": {},
   "outputs": [],
   "source": [
    "# Filter football bets\n",
    "football_bets = data[data['sport'] == 'Football']"
   ]
  },
  {
   "cell_type": "code",
   "execution_count": 8,
   "id": "d032c4ca",
   "metadata": {},
   "outputs": [
    {
     "name": "stdout",
     "output_type": "stream",
     "text": [
      "col_0   count\n",
      "is_win       \n",
      "False   31216\n",
      "True    18006\n"
     ]
    }
   ],
   "source": [
    "# Contingency table for wins and losses\n",
    "contingency_table = pd.crosstab(index=football_bets['is_win'], columns='count')\n",
    "\n",
    "print(contingency_table)"
   ]
  },
  {
   "cell_type": "code",
   "execution_count": 11,
   "id": "bee4949e",
   "metadata": {},
   "outputs": [
    {
     "name": "stdout",
     "output_type": "stream",
     "text": [
      "Chi2 Statistic: 3545.246028198773\n",
      "P-value: 0.0\n"
     ]
    }
   ],
   "source": [
    "# counts of wins and losses\n",
    "observed = contingency_table['count'].values\n",
    "\n",
    "# Expected counts assuming equal proportion (half of total)\n",
    "total = observed.sum()\n",
    "expected = [total/2, total/2]\n",
    "\n",
    "chi2_stat, p_value = chisquare(f_obs=observed, f_exp=expected)\n",
    "\n",
    "print(f\"Chi2 Statistic: {chi2_stat}\")\n",
    "print(f\"P-value: {p_value}\")"
   ]
  },
  {
   "cell_type": "code",
   "execution_count": null,
   "id": "f6c7eecd",
   "metadata": {},
   "outputs": [],
   "source": [
    "# Hi-square test has very large value for test statistic and p=0 < 0.05. Null hypotesis wil be rejected, which means that proportion of\n",
    "# wins and loses among users who are bet on football are not equal. The data show that proporsion of users who are lost is significantly different from 50-50 splt.  "
   ]
  },
  {
   "cell_type": "code",
   "execution_count": null,
   "id": "0120800c",
   "metadata": {},
   "outputs": [],
   "source": [
    "# Mann-Whitney test\n",
    "# Example question: Does bet_type(sigle or multiple) differ by odds level?"
   ]
  },
  {
   "cell_type": "code",
   "execution_count": 16,
   "id": "b402cf42",
   "metadata": {},
   "outputs": [
    {
     "name": "stdout",
     "output_type": "stream",
     "text": [
      "['multiple' 'single']\n"
     ]
    }
   ],
   "source": [
    "bet_types = data['bet_type'].unique()\n",
    "print(bet_types)"
   ]
  },
  {
   "cell_type": "code",
   "execution_count": null,
   "id": "777fdabf",
   "metadata": {},
   "outputs": [],
   "source": [
    "#want to compare bet_type 'A' vs 'B'\n",
    "group1 = data[data['bet_type'] == bet_types[0]]['odds_log']\n",
    "group2 = data[data['bet_type'] == bet_types[1]]['odds_log']"
   ]
  },
  {
   "cell_type": "code",
   "execution_count": 18,
   "id": "3a9a2389",
   "metadata": {},
   "outputs": [
    {
     "name": "stdout",
     "output_type": "stream",
     "text": [
      "Mann-Whitney U statistic: 1414351799.0\n",
      "P-value: 0.0\n"
     ]
    }
   ],
   "source": [
    "stat, p = mannwhitneyu(group1, group2, alternative='two-sided')\n",
    "\n",
    "print(f\"Mann-Whitney U statistic: {stat}\")\n",
    "print(f\"P-value: {p}\")"
   ]
  },
  {
   "cell_type": "code",
   "execution_count": null,
   "id": "d9dadaee",
   "metadata": {},
   "outputs": [],
   "source": [
    "# Null hypothesis: distribution of odds for the both bets type is same.\n",
    "# p =0, <0.05. Distrinution of odds level is significantly differ between bet_types."
   ]
  },
  {
   "cell_type": "code",
   "execution_count": 20,
   "id": "577336b0",
   "metadata": {},
   "outputs": [
    {
     "name": "stdout",
     "output_type": "stream",
     "text": [
      "Effect size r: 0.201\n"
     ]
    }
   ],
   "source": [
    "# Effect of size:\n",
    "U, p = mannwhitneyu(group1, group2, alternative='two-sided')\n",
    "\n",
    "n1 = len(group1)\n",
    "n2 = len(group2)\n",
    "\n",
    "# Calculate mean and std of U under null hypothesis\n",
    "mu_U = n1 * n2 / 2\n",
    "sigma_U = np.sqrt(n1 * n2 * (n1 + n2 + 1) / 12)\n",
    "\n",
    "# Calculate Z-score\n",
    "Z = (U - mu_U) / sigma_U\n",
    "\n",
    "# Calculate effect size r\n",
    "N = n1 + n2\n",
    "r = abs(Z) / np.sqrt(N)\n",
    "\n",
    "\n",
    "print(f\"Effect size r: {r:.3f}\")"
   ]
  },
  {
   "cell_type": "code",
   "execution_count": null,
   "id": "2e6fe148",
   "metadata": {},
   "outputs": [],
   "source": [
    "# A small effect of size=0.201."
   ]
  },
  {
   "cell_type": "code",
   "execution_count": null,
   "id": "1c1895ca",
   "metadata": {},
   "outputs": [],
   "source": [
    "# Kruskal-Walls test is non-parametric alternatives for one-way anova. Use to compare result of continue variable in three or more group.\n",
    "# The result will be transform in rank and mean rang of each group will be compared."
   ]
  },
  {
   "cell_type": "code",
   "execution_count": null,
   "id": "788288c6",
   "metadata": {},
   "outputs": [],
   "source": [
    "# will be used one continuour variable: GGR, one catorical variable sport."
   ]
  },
  {
   "cell_type": "code",
   "execution_count": 23,
   "id": "fa1d4611",
   "metadata": {},
   "outputs": [],
   "source": [
    "# unique sports\n",
    "sports = data['sport'].unique()\n",
    "\n",
    "# list of GGR arrays, one per sport\n",
    "groups = [data[data['sport'] == sport]['GGR_log'] for sport in sports]"
   ]
  },
  {
   "cell_type": "code",
   "execution_count": 24,
   "id": "7fde6d5b",
   "metadata": {},
   "outputs": [
    {
     "name": "stdout",
     "output_type": "stream",
     "text": [
      "Kruskal-Wallis H statistic: 16.44372551121684\n",
      "P-value: 0.17174716114041577\n"
     ]
    }
   ],
   "source": [
    "stat, p = kruskal(*groups)\n",
    "\n",
    "print(f\"Kruskal-Wallis H statistic: {stat}\")\n",
    "print(f\"P-value: {p}\")"
   ]
  },
  {
   "cell_type": "code",
   "execution_count": null,
   "id": "f2a68071",
   "metadata": {},
   "outputs": [],
   "source": [
    "# Null hypothesis: All groups have same distribution of GGR.\n",
    "# p =0.17 >0.05. GGR does not vary significantly between sport."
   ]
  }
 ],
 "metadata": {
  "kernelspec": {
   "display_name": "Python (statsmodels)",
   "language": "python",
   "name": "statsmodels_env"
  },
  "language_info": {
   "codemirror_mode": {
    "name": "ipython",
    "version": 3
   },
   "file_extension": ".py",
   "mimetype": "text/x-python",
   "name": "python",
   "nbconvert_exporter": "python",
   "pygments_lexer": "ipython3",
   "version": "3.11.2"
  }
 },
 "nbformat": 4,
 "nbformat_minor": 5
}
